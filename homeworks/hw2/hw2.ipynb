{
 "cells": [
  {
   "cell_type": "markdown",
   "metadata": {},
   "source": [
    "# Praca domowa 02, grupa walidacyjna\n",
    "## Laura Hoang, Piotr Bielecki"
   ]
  },
  {
   "cell_type": "markdown",
   "metadata": {},
   "source": [
    "Tematem tej pracy domowej jest przeprowadzenie klasyfikacji zbioru danych `allegro-api-transaction`.\n",
    "Celem naszej grupy jest walidacja pracy grupy nr.6 (Wiktor Jakubowski, Grzegorz Zbrzeżny). Komentarze w kodzie drugiej grupy są zapisane *czcionką pochyłą*."
   ]
  },
  {
   "cell_type": "markdown",
   "metadata": {},
   "source": [
    "## Budowa (fragment drugiej grupy):"
   ]
  },
  {
   "cell_type": "code",
   "execution_count": 1,
   "metadata": {},
   "outputs": [
    {
     "name": "stderr",
     "output_type": "stream",
     "text": [
      "C:\\Users\\laura\\anaconda3\\lib\\site-packages\\xgboost\\compat.py:36: FutureWarning: pandas.Int64Index is deprecated and will be removed from pandas in a future version. Use pandas.Index with the appropriate dtype instead.\n",
      "  from pandas import MultiIndex, Int64Index\n"
     ]
    }
   ],
   "source": [
    "import pandas as pd\n",
    "import numpy as np\n",
    "import seaborn as sns\n",
    "import matplotlib.pyplot as plt\n",
    "from category_encoders import TargetEncoder\n",
    "from sklearn.preprocessing import OneHotEncoder\n",
    "from sklearn.model_selection import train_test_split\n",
    "\n",
    "#from sklearn.model_selection import RandomizedSearchCV\n",
    "from sklearn.ensemble import GradientBoostingClassifier\n",
    "from sklearn.metrics import roc_auc_score, f1_score, accuracy_score\n",
    "from sklearn.metrics import classification_report\n",
    "from xgboost import XGBClassifier"
   ]
  },
  {
   "cell_type": "code",
   "execution_count": 2,
   "metadata": {},
   "outputs": [],
   "source": [
    "data = pd.read_csv(\"allegro-api-transactions.csv\")"
   ]
  },
  {
   "cell_type": "code",
   "execution_count": 3,
   "metadata": {},
   "outputs": [
    {
     "data": {
      "text/html": [
       "<div>\n",
       "<style scoped>\n",
       "    .dataframe tbody tr th:only-of-type {\n",
       "        vertical-align: middle;\n",
       "    }\n",
       "\n",
       "    .dataframe tbody tr th {\n",
       "        vertical-align: top;\n",
       "    }\n",
       "\n",
       "    .dataframe thead th {\n",
       "        text-align: right;\n",
       "    }\n",
       "</style>\n",
       "<table border=\"1\" class=\"dataframe\">\n",
       "  <thead>\n",
       "    <tr style=\"text-align: right;\">\n",
       "      <th></th>\n",
       "      <th>lp</th>\n",
       "      <th>date</th>\n",
       "      <th>item_id</th>\n",
       "      <th>categories</th>\n",
       "      <th>pay_option_on_delivery</th>\n",
       "      <th>pay_option_transfer</th>\n",
       "      <th>seller</th>\n",
       "      <th>price</th>\n",
       "      <th>it_is_allegro_standard</th>\n",
       "      <th>it_quantity</th>\n",
       "      <th>it_is_brand_zone</th>\n",
       "      <th>it_seller_rating</th>\n",
       "      <th>it_location</th>\n",
       "      <th>main_category</th>\n",
       "    </tr>\n",
       "  </thead>\n",
       "  <tbody>\n",
       "    <tr>\n",
       "      <th>0</th>\n",
       "      <td>0</td>\n",
       "      <td>2016-04-03 21:21:08</td>\n",
       "      <td>4753602474</td>\n",
       "      <td>['Komputery', 'Dyski i napędy', 'Nośniki', 'No...</td>\n",
       "      <td>1</td>\n",
       "      <td>1</td>\n",
       "      <td>radzioch666</td>\n",
       "      <td>59.99</td>\n",
       "      <td>1</td>\n",
       "      <td>997</td>\n",
       "      <td>0</td>\n",
       "      <td>50177</td>\n",
       "      <td>Warszawa</td>\n",
       "      <td>Komputery</td>\n",
       "    </tr>\n",
       "    <tr>\n",
       "      <th>1</th>\n",
       "      <td>1</td>\n",
       "      <td>2016-04-03 15:35:26</td>\n",
       "      <td>4773181874</td>\n",
       "      <td>['Odzież, Obuwie, Dodatki', 'Bielizna damska',...</td>\n",
       "      <td>1</td>\n",
       "      <td>1</td>\n",
       "      <td>InwestycjeNET</td>\n",
       "      <td>4.90</td>\n",
       "      <td>1</td>\n",
       "      <td>9288</td>\n",
       "      <td>0</td>\n",
       "      <td>12428</td>\n",
       "      <td>Warszawa</td>\n",
       "      <td>Odzież, Obuwie, Dodatki</td>\n",
       "    </tr>\n",
       "    <tr>\n",
       "      <th>2</th>\n",
       "      <td>2</td>\n",
       "      <td>2016-04-03 14:14:31</td>\n",
       "      <td>4781627074</td>\n",
       "      <td>['Dom i Ogród', 'Budownictwo i Akcesoria', 'Śc...</td>\n",
       "      <td>1</td>\n",
       "      <td>1</td>\n",
       "      <td>otostyl_com</td>\n",
       "      <td>109.90</td>\n",
       "      <td>1</td>\n",
       "      <td>895</td>\n",
       "      <td>0</td>\n",
       "      <td>7389</td>\n",
       "      <td>Leszno</td>\n",
       "      <td>Dom i Ogród</td>\n",
       "    </tr>\n",
       "    <tr>\n",
       "      <th>3</th>\n",
       "      <td>3</td>\n",
       "      <td>2016-04-03 19:55:44</td>\n",
       "      <td>4783971474</td>\n",
       "      <td>['Książki i Komiksy', 'Poradniki i albumy', 'Z...</td>\n",
       "      <td>1</td>\n",
       "      <td>1</td>\n",
       "      <td>Matfel1</td>\n",
       "      <td>18.50</td>\n",
       "      <td>0</td>\n",
       "      <td>971</td>\n",
       "      <td>0</td>\n",
       "      <td>15006</td>\n",
       "      <td>Wola Krzysztoporska</td>\n",
       "      <td>Książki i Komiksy</td>\n",
       "    </tr>\n",
       "    <tr>\n",
       "      <th>4</th>\n",
       "      <td>4</td>\n",
       "      <td>2016-04-03 18:05:54</td>\n",
       "      <td>4787908274</td>\n",
       "      <td>['Odzież, Obuwie, Dodatki', 'Ślub i wesele', '...</td>\n",
       "      <td>1</td>\n",
       "      <td>1</td>\n",
       "      <td>PPHU_RICO</td>\n",
       "      <td>19.90</td>\n",
       "      <td>1</td>\n",
       "      <td>950</td>\n",
       "      <td>0</td>\n",
       "      <td>32975</td>\n",
       "      <td>BIAŁYSTOK</td>\n",
       "      <td>Odzież, Obuwie, Dodatki</td>\n",
       "    </tr>\n",
       "  </tbody>\n",
       "</table>\n",
       "</div>"
      ],
      "text/plain": [
       "   lp                 date     item_id  \\\n",
       "0   0  2016-04-03 21:21:08  4753602474   \n",
       "1   1  2016-04-03 15:35:26  4773181874   \n",
       "2   2  2016-04-03 14:14:31  4781627074   \n",
       "3   3  2016-04-03 19:55:44  4783971474   \n",
       "4   4  2016-04-03 18:05:54  4787908274   \n",
       "\n",
       "                                          categories  pay_option_on_delivery  \\\n",
       "0  ['Komputery', 'Dyski i napędy', 'Nośniki', 'No...                       1   \n",
       "1  ['Odzież, Obuwie, Dodatki', 'Bielizna damska',...                       1   \n",
       "2  ['Dom i Ogród', 'Budownictwo i Akcesoria', 'Śc...                       1   \n",
       "3  ['Książki i Komiksy', 'Poradniki i albumy', 'Z...                       1   \n",
       "4  ['Odzież, Obuwie, Dodatki', 'Ślub i wesele', '...                       1   \n",
       "\n",
       "   pay_option_transfer         seller   price  it_is_allegro_standard  \\\n",
       "0                    1    radzioch666   59.99                       1   \n",
       "1                    1  InwestycjeNET    4.90                       1   \n",
       "2                    1    otostyl_com  109.90                       1   \n",
       "3                    1        Matfel1   18.50                       0   \n",
       "4                    1      PPHU_RICO   19.90                       1   \n",
       "\n",
       "   it_quantity  it_is_brand_zone  it_seller_rating          it_location  \\\n",
       "0          997                 0             50177             Warszawa   \n",
       "1         9288                 0             12428             Warszawa   \n",
       "2          895                 0              7389               Leszno   \n",
       "3          971                 0             15006  Wola Krzysztoporska   \n",
       "4          950                 0             32975            BIAŁYSTOK   \n",
       "\n",
       "             main_category  \n",
       "0                Komputery  \n",
       "1  Odzież, Obuwie, Dodatki  \n",
       "2              Dom i Ogród  \n",
       "3        Książki i Komiksy  \n",
       "4  Odzież, Obuwie, Dodatki  "
      ]
     },
     "execution_count": 3,
     "metadata": {},
     "output_type": "execute_result"
    }
   ],
   "source": [
    "data.head()"
   ]
  },
  {
   "cell_type": "markdown",
   "metadata": {},
   "source": [
    "# Identyfikacja zmiennej celu"
   ]
  },
  {
   "cell_type": "markdown",
   "metadata": {},
   "source": [
    "Naszą zmienną celu jest `price`. Do jej identyfikacji na pewno nie będziemy potrzebowali kolumn `lp`, gdyż jest ona unikalna dla każdego rekordu oraz `item_id`, gdyż dla znacznej większości rekordów jet ona unikalna"
   ]
  },
  {
   "cell_type": "code",
   "execution_count": 4,
   "metadata": {},
   "outputs": [],
   "source": [
    "data.drop([\"lp\", \"item_id\"], axis = 1, inplace = True)"
   ]
  },
  {
   "cell_type": "markdown",
   "metadata": {},
   "source": [
    "*Komentarz: Słuszny krok. Identyfikatory nie wnoszą nam potrzebnych informaccji.*"
   ]
  },
  {
   "cell_type": "markdown",
   "metadata": {},
   "source": [
    "# Podział danych"
   ]
  },
  {
   "cell_type": "markdown",
   "metadata": {},
   "source": [
    "Dodamy kolumnę `second_category`, która przyda się później, a ponadto usuniemy kolumnę `date`, gdyż dane dotyczą jedynie jednego dnia, a godziny o których wstawiono ogłoszenie właściwie nie mają wpływu na wartość `price`. Dodatkowo wiele rekordów jest zduplikowanych nie uwzględniając kolumny `date`, więc je także powinniśmy usunąć przed podziałem."
   ]
  },
  {
   "cell_type": "code",
   "execution_count": 5,
   "metadata": {},
   "outputs": [],
   "source": [
    "data.drop('date', axis = 1, inplace = True)"
   ]
  },
  {
   "cell_type": "code",
   "execution_count": 6,
   "metadata": {},
   "outputs": [],
   "source": [
    "data = data.drop_duplicates().reset_index(drop = True)"
   ]
  },
  {
   "cell_type": "code",
   "execution_count": 7,
   "metadata": {},
   "outputs": [],
   "source": [
    "df = data.copy()\n",
    "df['second_category'] = df['categories'].apply(lambda x: x.split(\"'\")[3])\n",
    "y = df[\"price\"].copy()\n",
    "X = df.drop(\"price\", axis = 1)"
   ]
  },
  {
   "cell_type": "markdown",
   "metadata": {},
   "source": [
    "Podzielmy dane na próby:\n",
    "* `treningowa - 60% danych`\n",
    "* `testowa - 20% danych`\n",
    "* `walidacyjna - 20% danych`"
   ]
  },
  {
   "cell_type": "code",
   "execution_count": 8,
   "metadata": {},
   "outputs": [],
   "source": [
    "X_train, X_test, y_train, y_test = train_test_split(X, y,\n",
    "    test_size=0.2, random_state = 42, shuffle = True)\n",
    "\n",
    "\n",
    "X_train, X_val, y_train, y_val = train_test_split(X_train, y_train, \n",
    "    test_size=0.25, random_state= 42, shuffle = True)"
   ]
  },
  {
   "cell_type": "markdown",
   "metadata": {},
   "source": [
    "`X_val` i `y_val` to dane, na któych będzie pracować zespół walidacyjny."
   ]
  },
  {
   "cell_type": "markdown",
   "metadata": {},
   "source": [
    "Przeprowadziliśmy preprocessing oddzielnie dla zbioru testowego i treningowego"
   ]
  },
  {
   "cell_type": "markdown",
   "metadata": {},
   "source": [
    "# Preprocessing danych treningowych"
   ]
  },
  {
   "cell_type": "markdown",
   "metadata": {},
   "source": [
    "Dla ułatwienia preprocessingu połączymy `X_train` z `y_train`."
   ]
  },
  {
   "cell_type": "code",
   "execution_count": 9,
   "metadata": {},
   "outputs": [],
   "source": [
    "data = X_train.join(y_train)"
   ]
  },
  {
   "cell_type": "code",
   "execution_count": 10,
   "metadata": {},
   "outputs": [
    {
     "name": "stdout",
     "output_type": "stream",
     "text": [
      "<class 'pandas.core.frame.DataFrame'>\n",
      "Int64Index: 196152 entries, 15244 to 155113\n",
      "Data columns (total 12 columns):\n",
      " #   Column                  Non-Null Count   Dtype  \n",
      "---  ------                  --------------   -----  \n",
      " 0   categories              196152 non-null  object \n",
      " 1   pay_option_on_delivery  196152 non-null  int64  \n",
      " 2   pay_option_transfer     196152 non-null  int64  \n",
      " 3   seller                  196152 non-null  object \n",
      " 4   it_is_allegro_standard  196152 non-null  int64  \n",
      " 5   it_quantity             196152 non-null  int64  \n",
      " 6   it_is_brand_zone        196152 non-null  int64  \n",
      " 7   it_seller_rating        196152 non-null  int64  \n",
      " 8   it_location             196152 non-null  object \n",
      " 9   main_category           196152 non-null  object \n",
      " 10  second_category         196152 non-null  object \n",
      " 11  price                   196152 non-null  float64\n",
      "dtypes: float64(1), int64(6), object(5)\n",
      "memory usage: 23.5+ MB\n"
     ]
    }
   ],
   "source": [
    "data.info()"
   ]
  },
  {
   "cell_type": "markdown",
   "metadata": {},
   "source": [
    "Widzimy, że nie ma braków danych oznaczonych nullami, czy NA. Sprawdźmy jeszcze, czy nie występują braki danych oznaczone innymi, popularnymi znakami."
   ]
  },
  {
   "cell_type": "code",
   "execution_count": 11,
   "metadata": {},
   "outputs": [],
   "source": [
    "x = []\n",
    "for col in data:\n",
    "    x.append(data[data[col].isin([\"?\", -1, \"Unknown\", \"unknown\", \"\"])].shape[0])"
   ]
  },
  {
   "cell_type": "code",
   "execution_count": 12,
   "metadata": {},
   "outputs": [
    {
     "data": {
      "text/plain": [
       "[0, 0, 0, 0, 0, 0, 0, 3, 0, 0, 0, 0]"
      ]
     },
     "execution_count": 12,
     "metadata": {},
     "output_type": "execute_result"
    }
   ],
   "source": [
    "x"
   ]
  },
  {
   "cell_type": "markdown",
   "metadata": {},
   "source": [
    "Mamy 3 rekordy w którym mamy brak danych w kolumnie `it_seller_rating`. Jest on oznaczony -1. Jako, że są to trzy rekordy ze 326922 możemy go po prostu usunąć."
   ]
  },
  {
   "cell_type": "code",
   "execution_count": 13,
   "metadata": {},
   "outputs": [],
   "source": [
    "data = data[data[\"it_seller_rating\"] != -1]"
   ]
  },
  {
   "cell_type": "markdown",
   "metadata": {},
   "source": [
    "*Komentarz: Dobrze, słusznie zostały pominięte te wiersze.*"
   ]
  },
  {
   "cell_type": "markdown",
   "metadata": {},
   "source": [
    "Usuńmy kolumnę `seller`, gdyż przy identyfikacji `price` o wiele bardziej obchodzić nas będzie `rating` sprzedającego niż tylko jego pseudonim."
   ]
  },
  {
   "cell_type": "code",
   "execution_count": 14,
   "metadata": {},
   "outputs": [],
   "source": [
    "data.drop(\"seller\", axis = 1, inplace = True)"
   ]
  },
  {
   "cell_type": "markdown",
   "metadata": {},
   "source": [
    "Sprawdźmy decyle w kolumnie `it_quantity`, ponieważ chcemy ją encodować na 4 kategorie."
   ]
  },
  {
   "cell_type": "code",
   "execution_count": 15,
   "metadata": {},
   "outputs": [
    {
     "data": {
      "text/plain": [
       "array([0.0000e+00, 2.0000e+00, 8.0000e+00, 2.2000e+01, 6.2000e+01,\n",
       "       1.6600e+02, 6.7300e+02, 9.5500e+02, 9.9800e+02, 9.9999e+04])"
      ]
     },
     "execution_count": 15,
     "metadata": {},
     "output_type": "execute_result"
    }
   ],
   "source": [
    "np.percentile(data[\"it_quantity\"], [i for i in range(10, 110, 10)])"
   ]
  },
  {
   "cell_type": "code",
   "execution_count": 16,
   "metadata": {},
   "outputs": [],
   "source": [
    "def encode_quant(x):\n",
    "    if x < 9:\n",
    "        return 0\n",
    "    elif x < 100:\n",
    "        return 1\n",
    "    elif x < 900:\n",
    "        return 2\n",
    "    else: return 3"
   ]
  },
  {
   "cell_type": "code",
   "execution_count": 17,
   "metadata": {},
   "outputs": [],
   "source": [
    "data[\"it_quantity\"] = data[\"it_quantity\"].apply(encode_quant)"
   ]
  },
  {
   "cell_type": "markdown",
   "metadata": {},
   "source": [
    "Sprawdźmy decyle w kolumnie `it_seller_rating`, ponieważ chcemy ją encodować na 3 kategorie."
   ]
  },
  {
   "cell_type": "code",
   "execution_count": 18,
   "metadata": {},
   "outputs": [
    {
     "data": {
      "text/plain": [
       "array([   309. ,    951. ,   2067.4,   3663. ,   6066. ,   9653. ,\n",
       "        14912. ,  25139. ,  49591. , 292073. ])"
      ]
     },
     "execution_count": 18,
     "metadata": {},
     "output_type": "execute_result"
    }
   ],
   "source": [
    "np.percentile(data[\"it_seller_rating\"], [i for i in range(10, 110, 10)])"
   ]
  },
  {
   "cell_type": "code",
   "execution_count": 19,
   "metadata": {},
   "outputs": [],
   "source": [
    "def seller_rating_encode(x):\n",
    "    if x < 2500:\n",
    "        return 0\n",
    "    elif x < 16500:\n",
    "        return 1\n",
    "    else: return 2"
   ]
  },
  {
   "cell_type": "code",
   "execution_count": 20,
   "metadata": {},
   "outputs": [],
   "source": [
    "data[\"it_seller_rating\"] = data[\"it_seller_rating\"].apply(seller_rating_encode)"
   ]
  },
  {
   "cell_type": "markdown",
   "metadata": {},
   "source": [
    "Sprawdźmy decyle w kolumnie `price`, ponieważ chcemy ją encodować na 3 kategorie."
   ]
  },
  {
   "cell_type": "code",
   "execution_count": 21,
   "metadata": {},
   "outputs": [
    {
     "data": {
      "text/plain": [
       "array([3.450e+00, 6.990e+00, 1.190e+01, 1.799e+01, 2.500e+01, 3.549e+01,\n",
       "       5.400e+01, 8.900e+01, 1.690e+02, 1.190e+05])"
      ]
     },
     "execution_count": 21,
     "metadata": {},
     "output_type": "execute_result"
    }
   ],
   "source": [
    "np.percentile(data[\"price\"], [i for i in range(10, 110, 10)])"
   ]
  },
  {
   "cell_type": "markdown",
   "metadata": {},
   "source": [
    "W poniższej funkcji:\n",
    "* `0 - cena niska`\n",
    "* `1 - cena średnia`\n",
    "* `2 - cena wysoka`"
   ]
  },
  {
   "cell_type": "markdown",
   "metadata": {},
   "source": [
    "W naszym modelu nie będzimy patrzyli na kategorię produktu w przypadku skategoryzowania go pod kątem ceny. To znaczy, że na przykład wsszelkie produkty poniżej 200 PLN, a powyżej 20 PLN zakwalifikujemy do kategorii 1, nie patrząc na to, czy jest to na przykład skarpetka, czy telefon. "
   ]
  },
  {
   "cell_type": "code",
   "execution_count": 22,
   "metadata": {},
   "outputs": [],
   "source": [
    "def encode_price(x):\n",
    "    if x < 20:\n",
    "        return 0\n",
    "    elif x < 200:\n",
    "        return 1\n",
    "    else: return 2"
   ]
  },
  {
   "cell_type": "code",
   "execution_count": 23,
   "metadata": {},
   "outputs": [],
   "source": [
    "data[\"price\"] = data[\"price\"].apply(encode_price)"
   ]
  },
  {
   "cell_type": "markdown",
   "metadata": {},
   "source": [
    "Użyjemy TargetEncodera na kolumnie `it_location` ucząc go na całych danych."
   ]
  },
  {
   "cell_type": "code",
   "execution_count": 24,
   "metadata": {},
   "outputs": [],
   "source": [
    "encoder = TargetEncoder()\n",
    "encoder.fit(df[\"it_location\"], df[\"price\"])\n",
    "data[\"location_encoded\"] = encoder.transform(data[\"it_location\"])\n",
    "data.drop(\"it_location\", axis = 1, inplace = True)"
   ]
  },
  {
   "cell_type": "code",
   "execution_count": 25,
   "metadata": {},
   "outputs": [
    {
     "data": {
      "text/plain": [
       "array([   26.80087719,    42.4993228 ,    55.88924915,    63.91588251,\n",
       "          68.27079125,    76.77800573,    84.82662577,    90.26982338,\n",
       "         108.31573248, 19748.19493513])"
      ]
     },
     "execution_count": 25,
     "metadata": {},
     "output_type": "execute_result"
    }
   ],
   "source": [
    "np.percentile(data[\"location_encoded\"], [i for i in range(10, 110, 10)])"
   ]
  },
  {
   "cell_type": "code",
   "execution_count": 26,
   "metadata": {},
   "outputs": [],
   "source": [
    "def encode_location_enc(x):\n",
    "    if x < 0.6:\n",
    "        return 0\n",
    "    elif x < 0.75:\n",
    "        return 1\n",
    "    else: return 2"
   ]
  },
  {
   "cell_type": "code",
   "execution_count": 27,
   "metadata": {},
   "outputs": [],
   "source": [
    "data[\"location_encoded\"] = data[\"location_encoded\"].apply(encode_location_enc)"
   ]
  },
  {
   "cell_type": "markdown",
   "metadata": {},
   "source": [
    "*Komentarz: Uczenie całego zbioru danych nie jest wskazane. Powinno to być dokonane na części danych: na samych danych treningowych.*"
   ]
  },
  {
   "cell_type": "markdown",
   "metadata": {},
   "source": [
    "Na koniec One Hot Encodujemy `categories` względem dwóch pierwszych kategorii"
   ]
  },
  {
   "cell_type": "code",
   "execution_count": 28,
   "metadata": {},
   "outputs": [],
   "source": [
    "data.reset_index(drop = True, inplace = True)"
   ]
  },
  {
   "cell_type": "code",
   "execution_count": 29,
   "metadata": {},
   "outputs": [
    {
     "name": "stderr",
     "output_type": "stream",
     "text": [
      "C:\\Users\\laura\\anaconda3\\lib\\site-packages\\sklearn\\utils\\deprecation.py:87: FutureWarning: Function get_feature_names is deprecated; get_feature_names is deprecated in 1.0 and will be removed in 1.2. Please use get_feature_names_out instead.\n",
      "  warnings.warn(msg, category=FutureWarning)\n",
      "C:\\Users\\laura\\anaconda3\\lib\\site-packages\\sklearn\\utils\\deprecation.py:87: FutureWarning: Function get_feature_names is deprecated; get_feature_names is deprecated in 1.0 and will be removed in 1.2. Please use get_feature_names_out instead.\n",
      "  warnings.warn(msg, category=FutureWarning)\n"
     ]
    }
   ],
   "source": [
    "ohe_main = OneHotEncoder()\n",
    "ohe_main.fit(pd.DataFrame(df[\"main_category\"]))\n",
    "main_category = pd.DataFrame(ohe_main.transform(pd.DataFrame(data[\"main_category\"])).toarray())\n",
    "main_category.columns = ohe_main.get_feature_names([\"main_category\"])\n",
    "\n",
    "data = data.join(main_category)\n",
    "\n",
    "ohe_sec = OneHotEncoder()\n",
    "ohe_sec.fit(pd.DataFrame(df[\"second_category\"]))\n",
    "second_category = pd.DataFrame(ohe_sec.transform(pd.DataFrame(data[\"second_category\"])).toarray())\n",
    "second_category.columns = ohe_sec.get_feature_names([\"second_category\"])\n",
    "\n",
    "data = data.join(second_category)\n",
    "\n",
    "data.drop([\"second_category\", \"main_category\"], axis = 1, inplace = True)\n",
    "data.drop('categories', axis = 1, inplace = True)"
   ]
  },
  {
   "cell_type": "markdown",
   "metadata": {},
   "source": [
    "Po skończeniu preprocessingu wróćmy do postaci `X_train`, `y_train`."
   ]
  },
  {
   "cell_type": "code",
   "execution_count": 30,
   "metadata": {},
   "outputs": [],
   "source": [
    "y_train = data[\"price\"]\n",
    "X_train = data.drop(\"price\", axis = 1)"
   ]
  },
  {
   "cell_type": "markdown",
   "metadata": {},
   "source": [
    "# Preprocessing danych testowych"
   ]
  },
  {
   "cell_type": "markdown",
   "metadata": {},
   "source": [
    "Dla ułatwienia preprocessingu połączymy `X_test` z `y_test`."
   ]
  },
  {
   "cell_type": "code",
   "execution_count": 31,
   "metadata": {},
   "outputs": [],
   "source": [
    "data = X_test.join(y_test)"
   ]
  },
  {
   "cell_type": "code",
   "execution_count": 32,
   "metadata": {
    "scrolled": false
   },
   "outputs": [
    {
     "name": "stdout",
     "output_type": "stream",
     "text": [
      "<class 'pandas.core.frame.DataFrame'>\n",
      "Int64Index: 65385 entries, 148988 to 256198\n",
      "Data columns (total 12 columns):\n",
      " #   Column                  Non-Null Count  Dtype  \n",
      "---  ------                  --------------  -----  \n",
      " 0   categories              65385 non-null  object \n",
      " 1   pay_option_on_delivery  65385 non-null  int64  \n",
      " 2   pay_option_transfer     65385 non-null  int64  \n",
      " 3   seller                  65385 non-null  object \n",
      " 4   it_is_allegro_standard  65385 non-null  int64  \n",
      " 5   it_quantity             65385 non-null  int64  \n",
      " 6   it_is_brand_zone        65385 non-null  int64  \n",
      " 7   it_seller_rating        65385 non-null  int64  \n",
      " 8   it_location             65385 non-null  object \n",
      " 9   main_category           65385 non-null  object \n",
      " 10  second_category         65385 non-null  object \n",
      " 11  price                   65385 non-null  float64\n",
      "dtypes: float64(1), int64(6), object(5)\n",
      "memory usage: 8.5+ MB\n"
     ]
    }
   ],
   "source": [
    "data.info()"
   ]
  },
  {
   "cell_type": "markdown",
   "metadata": {},
   "source": [
    "Widzimy, że nie ma braków danych oznaczonych nullami, czy NA. Sprawdźmy jeszcze, czy nie występują braki danych oznaczone innymi, popularnymi znakami."
   ]
  },
  {
   "cell_type": "code",
   "execution_count": 33,
   "metadata": {},
   "outputs": [],
   "source": [
    "x = []\n",
    "for col in data:\n",
    "    x.append(data[data[col].isin([\"?\", -1, \"Unknown\", \"unknown\"])].shape[0])"
   ]
  },
  {
   "cell_type": "code",
   "execution_count": 34,
   "metadata": {},
   "outputs": [
    {
     "data": {
      "text/plain": [
       "[0, 0, 0, 0, 0, 0, 0, 1, 0, 0, 0, 0]"
      ]
     },
     "execution_count": 34,
     "metadata": {},
     "output_type": "execute_result"
    }
   ],
   "source": [
    "x"
   ]
  },
  {
   "cell_type": "markdown",
   "metadata": {},
   "source": [
    "Mamy 1 brak w kolumnie `it_seller_rating` oznaczone -1. Jako, że są to tylko dwa rekordy ze 84004 możemy je po prostu usunąć"
   ]
  },
  {
   "cell_type": "code",
   "execution_count": 35,
   "metadata": {},
   "outputs": [],
   "source": [
    "data = data[data[\"it_seller_rating\"] != -1]"
   ]
  },
  {
   "cell_type": "markdown",
   "metadata": {},
   "source": [
    "Usuńmy kolumnę `seller`, gdyż przy identyfikacji `price` o wiele bardziej obchodzić nas będzie `rating` sprzedającego niż tylko jego pseudonim."
   ]
  },
  {
   "cell_type": "code",
   "execution_count": 36,
   "metadata": {},
   "outputs": [],
   "source": [
    "data.drop(\"seller\", axis = 1, inplace = True)"
   ]
  },
  {
   "cell_type": "markdown",
   "metadata": {},
   "source": [
    "Skorzystamy z tej samej funkcji co do danych treningowych by encodować kolumnę `it_quantity`"
   ]
  },
  {
   "cell_type": "code",
   "execution_count": 37,
   "metadata": {},
   "outputs": [],
   "source": [
    "data[\"it_quantity\"] = data[\"it_quantity\"].apply(encode_quant)"
   ]
  },
  {
   "cell_type": "markdown",
   "metadata": {},
   "source": [
    "Skorzystamy z tej samej funkcji co do danych treningowych by encodować kolumnę `it_seller_rating`"
   ]
  },
  {
   "cell_type": "code",
   "execution_count": 38,
   "metadata": {},
   "outputs": [],
   "source": [
    "data[\"it_seller_rating\"] = data[\"it_seller_rating\"].apply(seller_rating_encode)"
   ]
  },
  {
   "cell_type": "markdown",
   "metadata": {},
   "source": [
    "Teraz encodujemy etykietę `price` w ten sposób co w przypadku danych treningowych"
   ]
  },
  {
   "cell_type": "code",
   "execution_count": 39,
   "metadata": {},
   "outputs": [],
   "source": [
    "data[\"price\"] = data[\"price\"].apply(encode_price)"
   ]
  },
  {
   "cell_type": "markdown",
   "metadata": {},
   "source": [
    "Użyjemy TargetEncodera na kolumnie `it_location` przy użyciu nauczonego już encodera."
   ]
  },
  {
   "cell_type": "code",
   "execution_count": 40,
   "metadata": {},
   "outputs": [],
   "source": [
    "data[\"location_encoded\"] = encoder.transform(data[\"it_location\"])\n",
    "data.drop(\"it_location\", axis = 1, inplace = True)"
   ]
  },
  {
   "cell_type": "markdown",
   "metadata": {},
   "source": [
    "Zakodujemy `it_location` w ten sam sposób co na danych treningowych"
   ]
  },
  {
   "cell_type": "code",
   "execution_count": 41,
   "metadata": {},
   "outputs": [],
   "source": [
    "data[\"location_encoded\"] = data[\"location_encoded\"].apply(encode_location_enc)"
   ]
  },
  {
   "cell_type": "markdown",
   "metadata": {},
   "source": [
    "Na koniec One Hot Encodujemy `categories` względem dwóch pierwszych kategorii używając stworzonych wcześniej encoderów."
   ]
  },
  {
   "cell_type": "code",
   "execution_count": 42,
   "metadata": {},
   "outputs": [],
   "source": [
    "data.reset_index(drop = True, inplace = True)"
   ]
  },
  {
   "cell_type": "code",
   "execution_count": 43,
   "metadata": {},
   "outputs": [
    {
     "name": "stderr",
     "output_type": "stream",
     "text": [
      "C:\\Users\\laura\\anaconda3\\lib\\site-packages\\sklearn\\utils\\deprecation.py:87: FutureWarning: Function get_feature_names is deprecated; get_feature_names is deprecated in 1.0 and will be removed in 1.2. Please use get_feature_names_out instead.\n",
      "  warnings.warn(msg, category=FutureWarning)\n",
      "C:\\Users\\laura\\anaconda3\\lib\\site-packages\\sklearn\\utils\\deprecation.py:87: FutureWarning: Function get_feature_names is deprecated; get_feature_names is deprecated in 1.0 and will be removed in 1.2. Please use get_feature_names_out instead.\n",
      "  warnings.warn(msg, category=FutureWarning)\n"
     ]
    }
   ],
   "source": [
    "main_category = pd.DataFrame(ohe_main.transform(pd.DataFrame(data[\"main_category\"])).toarray())\n",
    "main_category.columns = ohe_main.get_feature_names([\"main_category\"])\n",
    "\n",
    "data = data.join(main_category)\n",
    "\n",
    "second_category = pd.DataFrame(ohe_sec.transform(pd.DataFrame(data[\"second_category\"])).toarray())\n",
    "second_category.columns = ohe_sec.get_feature_names([\"second_category\"])\n",
    "\n",
    "data = data.join(second_category)\n",
    "\n",
    "data.drop([\"second_category\", \"main_category\"], axis = 1, inplace = True)\n",
    "data.drop('categories', axis = 1, inplace = True)"
   ]
  },
  {
   "cell_type": "markdown",
   "metadata": {},
   "source": [
    "Po skończeniu preprocessingu wróćmy do postaci `X_test`, `y_test`."
   ]
  },
  {
   "cell_type": "code",
   "execution_count": 44,
   "metadata": {},
   "outputs": [],
   "source": [
    "y_test = data[\"price\"]\n",
    "X_test = data.drop(\"price\", axis = 1)"
   ]
  },
  {
   "cell_type": "markdown",
   "metadata": {},
   "source": [
    "Sprawdźmy jeszcze rozkład flagi `price` w zbiorach testowym i treningowym by upewnić się, że podział został wykonany prawidłowo."
   ]
  },
  {
   "cell_type": "code",
   "execution_count": 45,
   "metadata": {},
   "outputs": [
    {
     "data": {
      "image/png": "[encoded data removed]",
      "text/plain": [
       "<Figure size 432x288 with 1 Axes>"
      ]
     },
     "metadata": {
      "needs_background": "light"
     },
     "output_type": "display_data"
    }
   ],
   "source": [
    "y_test.hist()\n",
    "plt.show()"
   ]
  },
  {
   "cell_type": "code",
   "execution_count": 46,
   "metadata": {},
   "outputs": [
    {
     "data": {
      "image/png": "[encoded data removed]",
      "text/plain": [
       "<Figure size 432x288 with 1 Axes>"
      ]
     },
     "metadata": {
      "needs_background": "light"
     },
     "output_type": "display_data"
    }
   ],
   "source": [
    "y_train.hist()\n",
    "plt.show()"
   ]
  },
  {
   "cell_type": "markdown",
   "metadata": {},
   "source": [
    "Jak widać rozkład etykiety jest tożsamy w obu próbkach, reprezentatywność zachowana."
   ]
  },
  {
   "cell_type": "markdown",
   "metadata": {},
   "source": [
    "# Budowa modelu"
   ]
  },
  {
   "cell_type": "code",
   "execution_count": 47,
   "metadata": {},
   "outputs": [
    {
     "name": "stderr",
     "output_type": "stream",
     "text": [
      "C:\\Users\\laura\\anaconda3\\lib\\site-packages\\xgboost\\sklearn.py:1224: UserWarning: The use of label encoder in XGBClassifier is deprecated and will be removed in a future release. To remove this warning, do the following: 1) Pass option use_label_encoder=False when constructing XGBClassifier object; and 2) Encode your labels (y) as integers starting with 0, i.e. 0, 1, 2, ..., [num_class - 1].\n",
      "  warnings.warn(label_encoder_deprecation_msg, UserWarning)\n",
      "C:\\Users\\laura\\anaconda3\\lib\\site-packages\\xgboost\\data.py:262: FutureWarning: pandas.Int64Index is deprecated and will be removed from pandas in a future version. Use pandas.Index with the appropriate dtype instead.\n",
      "  elif isinstance(data.columns, (pd.Int64Index, pd.RangeIndex)):\n"
     ]
    },
    {
     "name": "stdout",
     "output_type": "stream",
     "text": [
      "[15:10:50] WARNING: C:/Users/Administrator/workspace/xgboost-win64_release_1.5.1/src/learner.cc:1115: Starting in XGBoost 1.3.0, the default evaluation metric used with the objective 'multi:softprob' was changed from 'merror' to 'mlogloss'. Explicitly set eval_metric if you'd like to restore the old behavior.\n"
     ]
    }
   ],
   "source": [
    "xgb = XGBClassifier()\n",
    "xgb.fit(X_train, y_train)\n",
    "proba = xgb.predict_proba(X_test)\n",
    "pred = xgb.predict(X_test)"
   ]
  },
  {
   "cell_type": "code",
   "execution_count": 48,
   "metadata": {
    "scrolled": true
   },
   "outputs": [
    {
     "data": {
      "text/plain": [
       "0.7511805746134209"
      ]
     },
     "execution_count": 48,
     "metadata": {},
     "output_type": "execute_result"
    }
   ],
   "source": [
    "roc_auc_score(y_test, proba, average=\"weighted\", multi_class=\"ovr\")"
   ]
  },
  {
   "cell_type": "markdown",
   "metadata": {},
   "source": [
    "# Wnioski"
   ]
  },
  {
   "cell_type": "markdown",
   "metadata": {},
   "source": [
    "* Przeprowadzając preprocessing na danych treningowych i testowych, osiągneliśmy podobne rezultaty w kwestii na przykład brakujących danych, czy też rozkładów zmiennych kodowanych.\n",
    "* Braków danych praktycznie nie było, pojedyncze przypadki po prostu usunęliśmy (nie ma sensu stosować metod imputacji dla 1-2 rekordów na 420000) - reprezentatywność danych się nie zmniejszy\n",
    "* Po przeanalizowaniu wyników modelu, zdecydowaliśmy się na zachowanie informacji o dwóch kategoriach `main_category` i nowoutworzona `second_category`, gdyż model lepiej predyktował zmienną celu w oparciu o te dodatkowe informacje i nie ulegał przeuczeniu.\n",
    "* Po przetworzeniu danych, postanowiliśmy zbudować model w oparciu o algorytm Gradient Boost.\n",
    "* W przypadku zbudowanego modelu osiągnęliśmy niezłe wyniki, które sprawdziliśmy metryką AUC ROC (polem pod krzywą ROC)"
   ]
  },
  {
   "cell_type": "markdown",
   "metadata": {},
   "source": [
    "## Walidacja:"
   ]
  },
  {
   "cell_type": "markdown",
   "metadata": {},
   "source": [
    "Tak jak zostało to powiedziane wcześniej, nasza grupa będzie pracować na danych do walidacji: `X_val`, `y_val` (dla ułatwienia preprocessingu połączymy obie tabelki). Aby zachować jednolitość, preprocessing ;przerpowadzimy e ten sam sposób co druga gruoa."
   ]
  },
  {
   "cell_type": "code",
   "execution_count": 49,
   "metadata": {},
   "outputs": [],
   "source": [
    "data = X_val.join(y_val)"
   ]
  },
  {
   "cell_type": "code",
   "execution_count": 50,
   "metadata": {},
   "outputs": [
    {
     "name": "stdout",
     "output_type": "stream",
     "text": [
      "<class 'pandas.core.frame.DataFrame'>\n",
      "Int64Index: 65385 entries, 308699 to 99832\n",
      "Data columns (total 12 columns):\n",
      " #   Column                  Non-Null Count  Dtype  \n",
      "---  ------                  --------------  -----  \n",
      " 0   categories              65385 non-null  object \n",
      " 1   pay_option_on_delivery  65385 non-null  int64  \n",
      " 2   pay_option_transfer     65385 non-null  int64  \n",
      " 3   seller                  65385 non-null  object \n",
      " 4   it_is_allegro_standard  65385 non-null  int64  \n",
      " 5   it_quantity             65385 non-null  int64  \n",
      " 6   it_is_brand_zone        65385 non-null  int64  \n",
      " 7   it_seller_rating        65385 non-null  int64  \n",
      " 8   it_location             65385 non-null  object \n",
      " 9   main_category           65385 non-null  object \n",
      " 10  second_category         65385 non-null  object \n",
      " 11  price                   65385 non-null  float64\n",
      "dtypes: float64(1), int64(6), object(5)\n",
      "memory usage: 8.5+ MB\n"
     ]
    }
   ],
   "source": [
    "data.info()"
   ]
  },
  {
   "cell_type": "markdown",
   "metadata": {},
   "source": [
    "Podobnie jak w przypadku drugiej grupy, w naszym wypadku nie ma braków danych oznaczonych nullami/NA."
   ]
  },
  {
   "cell_type": "code",
   "execution_count": 51,
   "metadata": {},
   "outputs": [],
   "source": [
    "x = []\n",
    "for col in data:\n",
    "    x.append(data[data[col].isin([\"?\", -1, \"Unknown\", \"unknown\", \"\"])].shape[0])"
   ]
  },
  {
   "cell_type": "code",
   "execution_count": 52,
   "metadata": {},
   "outputs": [
    {
     "data": {
      "text/plain": [
       "[0, 0, 0, 0, 0, 0, 0, 0, 1, 0, 0, 0]"
      ]
     },
     "execution_count": 52,
     "metadata": {},
     "output_type": "execute_result"
    }
   ],
   "source": [
    "x"
   ]
  },
  {
   "cell_type": "code",
   "execution_count": 53,
   "metadata": {},
   "outputs": [
    {
     "data": {
      "text/html": [
       "<div>\n",
       "<style scoped>\n",
       "    .dataframe tbody tr th:only-of-type {\n",
       "        vertical-align: middle;\n",
       "    }\n",
       "\n",
       "    .dataframe tbody tr th {\n",
       "        vertical-align: top;\n",
       "    }\n",
       "\n",
       "    .dataframe thead th {\n",
       "        text-align: right;\n",
       "    }\n",
       "</style>\n",
       "<table border=\"1\" class=\"dataframe\">\n",
       "  <thead>\n",
       "    <tr style=\"text-align: right;\">\n",
       "      <th></th>\n",
       "      <th>categories</th>\n",
       "      <th>pay_option_on_delivery</th>\n",
       "      <th>pay_option_transfer</th>\n",
       "      <th>seller</th>\n",
       "      <th>it_is_allegro_standard</th>\n",
       "      <th>it_quantity</th>\n",
       "      <th>it_is_brand_zone</th>\n",
       "      <th>it_seller_rating</th>\n",
       "      <th>it_location</th>\n",
       "      <th>main_category</th>\n",
       "      <th>second_category</th>\n",
       "      <th>price</th>\n",
       "    </tr>\n",
       "  </thead>\n",
       "  <tbody>\n",
       "    <tr>\n",
       "      <th>189216</th>\n",
       "      <td>['Książki i Komiksy', 'Książki naukowe i popul...</td>\n",
       "      <td>0</td>\n",
       "      <td>0</td>\n",
       "      <td>Vampirburzum</td>\n",
       "      <td>0</td>\n",
       "      <td>0</td>\n",
       "      <td>0</td>\n",
       "      <td>1379</td>\n",
       "      <td>?</td>\n",
       "      <td>Książki i Komiksy</td>\n",
       "      <td>Książki naukowe i popularnonaukowe</td>\n",
       "      <td>170.0</td>\n",
       "    </tr>\n",
       "  </tbody>\n",
       "</table>\n",
       "</div>"
      ],
      "text/plain": [
       "                                               categories  \\\n",
       "189216  ['Książki i Komiksy', 'Książki naukowe i popul...   \n",
       "\n",
       "        pay_option_on_delivery  pay_option_transfer        seller  \\\n",
       "189216                       0                    0  Vampirburzum   \n",
       "\n",
       "        it_is_allegro_standard  it_quantity  it_is_brand_zone  \\\n",
       "189216                       0            0                 0   \n",
       "\n",
       "        it_seller_rating it_location      main_category  \\\n",
       "189216              1379           ?  Książki i Komiksy   \n",
       "\n",
       "                           second_category  price  \n",
       "189216  Książki naukowe i popularnonaukowe  170.0  "
      ]
     },
     "execution_count": 53,
     "metadata": {},
     "output_type": "execute_result"
    }
   ],
   "source": [
    "data[data[\"it_location\"].isin([\"?\", -1, \"Unknown\", \"unknown\", \"\"])]"
   ]
  },
  {
   "cell_type": "markdown",
   "metadata": {},
   "source": [
    "W naszym wypadku, jest tylko 1 rekord w którym mamy brak danych, w kolumnie `it_location`. Jest on oznaczony znakiem \"?\". Jako, że to 1 rekord z 65385 również go usuniemy."
   ]
  },
  {
   "cell_type": "code",
   "execution_count": 54,
   "metadata": {},
   "outputs": [],
   "source": [
    "data = data[data[\"it_location\"] != \"?\"]"
   ]
  },
  {
   "cell_type": "code",
   "execution_count": 55,
   "metadata": {},
   "outputs": [
    {
     "data": {
      "text/html": [
       "<div>\n",
       "<style scoped>\n",
       "    .dataframe tbody tr th:only-of-type {\n",
       "        vertical-align: middle;\n",
       "    }\n",
       "\n",
       "    .dataframe tbody tr th {\n",
       "        vertical-align: top;\n",
       "    }\n",
       "\n",
       "    .dataframe thead th {\n",
       "        text-align: right;\n",
       "    }\n",
       "</style>\n",
       "<table border=\"1\" class=\"dataframe\">\n",
       "  <thead>\n",
       "    <tr style=\"text-align: right;\">\n",
       "      <th></th>\n",
       "      <th>categories</th>\n",
       "      <th>pay_option_on_delivery</th>\n",
       "      <th>pay_option_transfer</th>\n",
       "      <th>seller</th>\n",
       "      <th>it_is_allegro_standard</th>\n",
       "      <th>it_quantity</th>\n",
       "      <th>it_is_brand_zone</th>\n",
       "      <th>it_seller_rating</th>\n",
       "      <th>it_location</th>\n",
       "      <th>main_category</th>\n",
       "      <th>second_category</th>\n",
       "      <th>price</th>\n",
       "    </tr>\n",
       "  </thead>\n",
       "  <tbody>\n",
       "  </tbody>\n",
       "</table>\n",
       "</div>"
      ],
      "text/plain": [
       "Empty DataFrame\n",
       "Columns: [categories, pay_option_on_delivery, pay_option_transfer, seller, it_is_allegro_standard, it_quantity, it_is_brand_zone, it_seller_rating, it_location, main_category, second_category, price]\n",
       "Index: []"
      ]
     },
     "execution_count": 55,
     "metadata": {},
     "output_type": "execute_result"
    }
   ],
   "source": [
    "data[data[\"it_location\"].isin([\"?\", -1, \"Unknown\", \"unknown\", \"\"])]"
   ]
  },
  {
   "cell_type": "markdown",
   "metadata": {},
   "source": [
    "Tak jak druga grupa, usuniemy kolumnę `seller`, gdyż przy identyfikacji `price` o wiele bardziej obchodzić nas będzie `rating` sprzedającego niż tylko jego pseudonim."
   ]
  },
  {
   "cell_type": "code",
   "execution_count": 56,
   "metadata": {},
   "outputs": [],
   "source": [
    "data.drop(\"seller\", axis = 1, inplace = True)"
   ]
  },
  {
   "cell_type": "markdown",
   "metadata": {},
   "source": [
    "Sprawdzamy decyle w kolumnie `it_quantity`, aby ją encodować na 4 kategorie..."
   ]
  },
  {
   "cell_type": "code",
   "execution_count": 57,
   "metadata": {
    "scrolled": true
   },
   "outputs": [
    {
     "data": {
      "text/plain": [
       "array([0.0000e+00, 2.0000e+00, 8.0000e+00, 2.2000e+01, 6.2000e+01,\n",
       "       1.6000e+02, 6.8700e+02, 9.5500e+02, 9.9800e+02, 9.9999e+04])"
      ]
     },
     "execution_count": 57,
     "metadata": {},
     "output_type": "execute_result"
    }
   ],
   "source": [
    "np.percentile(data[\"it_quantity\"], [i for i in range(10, 110, 10)])"
   ]
  },
  {
   "cell_type": "markdown",
   "metadata": {},
   "source": [
    "Wartości drugiej grupy:  \n",
    "`array([0.0000e+00, 2.0000e+00, 8.0000e+00, 2.2000e+01, 6.2000e+01,\n",
    "       1.6600e+02, 6.7300e+02, 9.5500e+02, 9.9800e+02, 9.9999e+04])`"
   ]
  },
  {
   "cell_type": "code",
   "execution_count": 58,
   "metadata": {},
   "outputs": [],
   "source": [
    "data[\"it_quantity\"] = data[\"it_quantity\"].apply(encode_quant)"
   ]
  },
  {
   "cell_type": "markdown",
   "metadata": {},
   "source": [
    "... decyle w kolumnie `it_seller_rating`, aby ją encodować na 3 kategorie..."
   ]
  },
  {
   "cell_type": "code",
   "execution_count": 59,
   "metadata": {
    "scrolled": true
   },
   "outputs": [
    {
     "data": {
      "text/plain": [
       "array([   306. ,    933. ,   2040. ,   3621.2,   5997. ,   9534.8,\n",
       "        14862. ,  24932. ,  49489. , 292074. ])"
      ]
     },
     "execution_count": 59,
     "metadata": {},
     "output_type": "execute_result"
    }
   ],
   "source": [
    "np.percentile(data[\"it_seller_rating\"], [i for i in range(10, 110, 10)])"
   ]
  },
  {
   "cell_type": "markdown",
   "metadata": {},
   "source": [
    "Wartości drugiej grupy:  \n",
    "`array([   309. ,    951. ,   2067.4,   3663. ,   6066. ,   9653. ,\n",
    "        14912. ,  25139. ,  49591. , 292073. ])`"
   ]
  },
  {
   "cell_type": "code",
   "execution_count": 60,
   "metadata": {},
   "outputs": [],
   "source": [
    "data[\"it_seller_rating\"] = data[\"it_seller_rating\"].apply(seller_rating_encode)"
   ]
  },
  {
   "cell_type": "markdown",
   "metadata": {},
   "source": [
    "...oraz decyle w kolumnie `price`, aby ją encodować na 3 kategorie."
   ]
  },
  {
   "cell_type": "code",
   "execution_count": 61,
   "metadata": {
    "scrolled": true
   },
   "outputs": [
    {
     "data": {
      "text/plain": [
       "array([3.490e+00, 6.990e+00, 1.199e+01, 1.800e+01, 2.500e+01, 3.599e+01,\n",
       "       5.490e+01, 8.990e+01, 1.690e+02, 4.600e+04])"
      ]
     },
     "execution_count": 61,
     "metadata": {},
     "output_type": "execute_result"
    }
   ],
   "source": [
    "np.percentile(data[\"price\"], [i for i in range(10, 110, 10)])"
   ]
  },
  {
   "cell_type": "markdown",
   "metadata": {},
   "source": [
    "Wartości drugiej grupy:  \n",
    "`array([3.450e+00, 6.990e+00, 1.190e+01, 1.799e+01, 2.500e+01, 3.549e+01,\n",
    "       5.400e+01, 8.900e+01, 1.690e+02, 1.190e+05])`"
   ]
  },
  {
   "cell_type": "code",
   "execution_count": 62,
   "metadata": {},
   "outputs": [],
   "source": [
    "data[\"price\"] = data[\"price\"].apply(encode_price)"
   ]
  },
  {
   "cell_type": "code",
   "execution_count": 63,
   "metadata": {},
   "outputs": [],
   "source": [
    "encoder = TargetEncoder()\n",
    "encoder.fit(df[\"it_location\"], df[\"price\"])\n",
    "data[\"location_encoded\"] = encoder.transform(data[\"it_location\"])\n",
    "data.drop(\"it_location\", axis = 1, inplace = True)"
   ]
  },
  {
   "cell_type": "code",
   "execution_count": 64,
   "metadata": {},
   "outputs": [
    {
     "data": {
      "text/plain": [
       "array([  26.88783788,   43.10930789,   56.23198641,   63.91588251,\n",
       "         68.27079125,   76.77800573,   84.82662577,   90.26982338,\n",
       "        107.85636553, 3895.55877314])"
      ]
     },
     "execution_count": 64,
     "metadata": {},
     "output_type": "execute_result"
    }
   ],
   "source": [
    "np.percentile(data[\"location_encoded\"], [i for i in range(10, 110, 10)])"
   ]
  },
  {
   "cell_type": "markdown",
   "metadata": {},
   "source": [
    "Wartości drugiej grupy:  \n",
    "`array([   26.80087719,    42.4993228 ,    55.88924915,    63.91588251,\n",
    "          68.27079125,    76.77800573,    84.82662577,    90.26982338,\n",
    "         108.31573248, 19748.19493513])`"
   ]
  },
  {
   "cell_type": "code",
   "execution_count": 65,
   "metadata": {},
   "outputs": [],
   "source": [
    "data[\"location_encoded\"] = data[\"location_encoded\"].apply(encode_location_enc)"
   ]
  },
  {
   "cell_type": "markdown",
   "metadata": {},
   "source": [
    "One-Hot Encoding `categories` względem dwóch pierwszych kategorii"
   ]
  },
  {
   "cell_type": "code",
   "execution_count": 66,
   "metadata": {},
   "outputs": [],
   "source": [
    "data.reset_index(drop = True, inplace = True)"
   ]
  },
  {
   "cell_type": "code",
   "execution_count": 67,
   "metadata": {},
   "outputs": [
    {
     "name": "stderr",
     "output_type": "stream",
     "text": [
      "C:\\Users\\laura\\anaconda3\\lib\\site-packages\\sklearn\\utils\\deprecation.py:87: FutureWarning: Function get_feature_names is deprecated; get_feature_names is deprecated in 1.0 and will be removed in 1.2. Please use get_feature_names_out instead.\n",
      "  warnings.warn(msg, category=FutureWarning)\n",
      "C:\\Users\\laura\\anaconda3\\lib\\site-packages\\sklearn\\utils\\deprecation.py:87: FutureWarning: Function get_feature_names is deprecated; get_feature_names is deprecated in 1.0 and will be removed in 1.2. Please use get_feature_names_out instead.\n",
      "  warnings.warn(msg, category=FutureWarning)\n"
     ]
    }
   ],
   "source": [
    "ohe_main = OneHotEncoder()\n",
    "ohe_main.fit(pd.DataFrame(df[\"main_category\"]))\n",
    "main_category = pd.DataFrame(ohe_main.transform(pd.DataFrame(data[\"main_category\"])).toarray())\n",
    "main_category.columns = ohe_main.get_feature_names([\"main_category\"])\n",
    "\n",
    "data = data.join(main_category)\n",
    "\n",
    "ohe_sec = OneHotEncoder()\n",
    "ohe_sec.fit(pd.DataFrame(df[\"second_category\"]))\n",
    "second_category = pd.DataFrame(ohe_sec.transform(pd.DataFrame(data[\"second_category\"])).toarray())\n",
    "second_category.columns = ohe_sec.get_feature_names([\"second_category\"])\n",
    "\n",
    "data = data.join(second_category)\n",
    "\n",
    "data.drop([\"second_category\", \"main_category\"], axis = 1, inplace = True)\n",
    "data.drop('categories', axis = 1, inplace = True)"
   ]
  },
  {
   "cell_type": "markdown",
   "metadata": {},
   "source": [
    "Po skończeniu preprocessingu wróćmy do postaci `X_val`, `y_val`."
   ]
  },
  {
   "cell_type": "code",
   "execution_count": 68,
   "metadata": {},
   "outputs": [],
   "source": [
    "y_val = data[\"price\"]\n",
    "X_val = data.drop(\"price\", axis = 1)"
   ]
  },
  {
   "cell_type": "markdown",
   "metadata": {},
   "source": [
    "Ponieważ budowanie modelu nie było częścią obowiązkową, walidacja tej części zostanie pominięta. "
   ]
  },
  {
   "cell_type": "markdown",
   "metadata": {},
   "source": [
    "# Wnioski"
   ]
  },
  {
   "cell_type": "markdown",
   "metadata": {},
   "source": [
    "* Większość pracy jest poprawna i wyniki na danych treningowych i walidacyjnych są zbliżone.\n",
    "* Powinien zostać zachowany podział między danymi do budowy a danymi do walidacji, nie powinny mieć ze sobą styczności."
   ]
  }
 ],
 "metadata": {
  "kernelspec": {
   "display_name": "Python 3 (ipykernel)",
   "language": "python",
   "name": "python3"
  },
  "language_info": {
   "codemirror_mode": {
    "name": "ipython",
    "version": 3
   },
   "file_extension": ".py",
   "mimetype": "text/x-python",
   "name": "python",
   "nbconvert_exporter": "python",
   "pygments_lexer": "ipython3",
   "version": "3.9.7"
  }
 },
 "nbformat": 4,
 "nbformat_minor": 4
}
