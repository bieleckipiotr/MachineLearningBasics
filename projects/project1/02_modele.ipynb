{
 "cells": [
  {
   "cell_type": "markdown",
   "id": "00fb016d",
   "metadata": {},
   "source": [
    "# Census income\n",
    "## Budowa modeli"
   ]
  },
  {
   "cell_type": "markdown",
   "id": "37f7ea17",
   "metadata": {},
   "source": [
    "## 1. Importowanie danych"
   ]
  },
  {
   "cell_type": "code",
   "execution_count": 1,
   "id": "778ef9ec",
   "metadata": {},
   "outputs": [
    {
     "name": "stderr",
     "output_type": "stream",
     "text": [
      "C:\\Users\\laura\\anaconda3\\lib\\site-packages\\xgboost\\compat.py:36: FutureWarning: pandas.Int64Index is deprecated and will be removed from pandas in a future version. Use pandas.Index with the appropriate dtype instead.\n",
      "  from pandas import MultiIndex, Int64Index\n"
     ]
    }
   ],
   "source": [
    "import pandas as pd\n",
    "import numpy as np\n",
    "import matplotlib.pyplot as plt\n",
    "import seaborn as sns\n",
    "\n",
    "# from sklearn.pipeline import Pipeline\n",
    "# from sklearn.compose import ColumnTransformer\n",
    "from sklearn.preprocessing import LabelEncoder, OneHotEncoder, FunctionTransformer\n",
    "\n",
    "from sklearn.model_selection import train_test_split, KFold, cross_validate, cross_val_score\n",
    "from sklearn.metrics import accuracy_score\n",
    "\n",
    "from sklearn.ensemble import RandomForestClassifier\n",
    "from xgboost import XGBClassifier\n",
    "from sklearn.linear_model import LogisticRegression\n",
    "from sklearn.tree import DecisionTreeClassifier\n",
    "from sklearn.svm import SVC"
   ]
  },
  {
   "cell_type": "markdown",
   "id": "dbfa12f4",
   "metadata": {},
   "source": [
    "Skorzystamy z danych po pre-processingu wykonanego w pliku **01_EDA.ipynb**."
   ]
  },
  {
   "cell_type": "code",
   "execution_count": 2,
   "id": "e9599250",
   "metadata": {
    "scrolled": false
   },
   "outputs": [
    {
     "data": {
      "text/html": [
       "<div>\n",
       "<style scoped>\n",
       "    .dataframe tbody tr th:only-of-type {\n",
       "        vertical-align: middle;\n",
       "    }\n",
       "\n",
       "    .dataframe tbody tr th {\n",
       "        vertical-align: top;\n",
       "    }\n",
       "\n",
       "    .dataframe thead th {\n",
       "        text-align: right;\n",
       "    }\n",
       "</style>\n",
       "<table border=\"1\" class=\"dataframe\">\n",
       "  <thead>\n",
       "    <tr style=\"text-align: right;\">\n",
       "      <th></th>\n",
       "      <th>income_level</th>\n",
       "      <th>age</th>\n",
       "      <th>workclass</th>\n",
       "      <th>education_num</th>\n",
       "      <th>sex</th>\n",
       "      <th>capital_gain</th>\n",
       "      <th>capital_loss</th>\n",
       "      <th>hours_per_week</th>\n",
       "      <th>race_Black</th>\n",
       "      <th>race_White</th>\n",
       "      <th>race_other</th>\n",
       "      <th>relationship_Husband</th>\n",
       "      <th>relationship_Not-in-family</th>\n",
       "      <th>relationship_Other-relative</th>\n",
       "      <th>relationship_Own-child</th>\n",
       "      <th>relationship_Unmarried</th>\n",
       "      <th>relationship_Wife</th>\n",
       "      <th>native_country_Mexico</th>\n",
       "      <th>native_country_United-States</th>\n",
       "      <th>native_country_other</th>\n",
       "    </tr>\n",
       "  </thead>\n",
       "  <tbody>\n",
       "    <tr>\n",
       "      <th>0</th>\n",
       "      <td>0</td>\n",
       "      <td>39</td>\n",
       "      <td>6</td>\n",
       "      <td>13</td>\n",
       "      <td>1</td>\n",
       "      <td>2174.0</td>\n",
       "      <td>0.0</td>\n",
       "      <td>40.0</td>\n",
       "      <td>0</td>\n",
       "      <td>1</td>\n",
       "      <td>0</td>\n",
       "      <td>0</td>\n",
       "      <td>1</td>\n",
       "      <td>0</td>\n",
       "      <td>0</td>\n",
       "      <td>0</td>\n",
       "      <td>0</td>\n",
       "      <td>0</td>\n",
       "      <td>1</td>\n",
       "      <td>0</td>\n",
       "    </tr>\n",
       "    <tr>\n",
       "      <th>1</th>\n",
       "      <td>0</td>\n",
       "      <td>50</td>\n",
       "      <td>5</td>\n",
       "      <td>13</td>\n",
       "      <td>1</td>\n",
       "      <td>0.0</td>\n",
       "      <td>0.0</td>\n",
       "      <td>13.0</td>\n",
       "      <td>0</td>\n",
       "      <td>1</td>\n",
       "      <td>0</td>\n",
       "      <td>1</td>\n",
       "      <td>0</td>\n",
       "      <td>0</td>\n",
       "      <td>0</td>\n",
       "      <td>0</td>\n",
       "      <td>0</td>\n",
       "      <td>0</td>\n",
       "      <td>1</td>\n",
       "      <td>0</td>\n",
       "    </tr>\n",
       "    <tr>\n",
       "      <th>2</th>\n",
       "      <td>0</td>\n",
       "      <td>38</td>\n",
       "      <td>3</td>\n",
       "      <td>9</td>\n",
       "      <td>1</td>\n",
       "      <td>0.0</td>\n",
       "      <td>0.0</td>\n",
       "      <td>40.0</td>\n",
       "      <td>0</td>\n",
       "      <td>1</td>\n",
       "      <td>0</td>\n",
       "      <td>0</td>\n",
       "      <td>1</td>\n",
       "      <td>0</td>\n",
       "      <td>0</td>\n",
       "      <td>0</td>\n",
       "      <td>0</td>\n",
       "      <td>0</td>\n",
       "      <td>1</td>\n",
       "      <td>0</td>\n",
       "    </tr>\n",
       "    <tr>\n",
       "      <th>3</th>\n",
       "      <td>0</td>\n",
       "      <td>53</td>\n",
       "      <td>3</td>\n",
       "      <td>7</td>\n",
       "      <td>1</td>\n",
       "      <td>0.0</td>\n",
       "      <td>0.0</td>\n",
       "      <td>40.0</td>\n",
       "      <td>1</td>\n",
       "      <td>0</td>\n",
       "      <td>0</td>\n",
       "      <td>1</td>\n",
       "      <td>0</td>\n",
       "      <td>0</td>\n",
       "      <td>0</td>\n",
       "      <td>0</td>\n",
       "      <td>0</td>\n",
       "      <td>0</td>\n",
       "      <td>1</td>\n",
       "      <td>0</td>\n",
       "    </tr>\n",
       "    <tr>\n",
       "      <th>4</th>\n",
       "      <td>0</td>\n",
       "      <td>28</td>\n",
       "      <td>3</td>\n",
       "      <td>13</td>\n",
       "      <td>0</td>\n",
       "      <td>0.0</td>\n",
       "      <td>0.0</td>\n",
       "      <td>40.0</td>\n",
       "      <td>1</td>\n",
       "      <td>0</td>\n",
       "      <td>0</td>\n",
       "      <td>0</td>\n",
       "      <td>0</td>\n",
       "      <td>0</td>\n",
       "      <td>0</td>\n",
       "      <td>0</td>\n",
       "      <td>1</td>\n",
       "      <td>0</td>\n",
       "      <td>0</td>\n",
       "      <td>1</td>\n",
       "    </tr>\n",
       "    <tr>\n",
       "      <th>...</th>\n",
       "      <td>...</td>\n",
       "      <td>...</td>\n",
       "      <td>...</td>\n",
       "      <td>...</td>\n",
       "      <td>...</td>\n",
       "      <td>...</td>\n",
       "      <td>...</td>\n",
       "      <td>...</td>\n",
       "      <td>...</td>\n",
       "      <td>...</td>\n",
       "      <td>...</td>\n",
       "      <td>...</td>\n",
       "      <td>...</td>\n",
       "      <td>...</td>\n",
       "      <td>...</td>\n",
       "      <td>...</td>\n",
       "      <td>...</td>\n",
       "      <td>...</td>\n",
       "      <td>...</td>\n",
       "      <td>...</td>\n",
       "    </tr>\n",
       "    <tr>\n",
       "      <th>48837</th>\n",
       "      <td>0</td>\n",
       "      <td>39</td>\n",
       "      <td>3</td>\n",
       "      <td>13</td>\n",
       "      <td>0</td>\n",
       "      <td>0.0</td>\n",
       "      <td>0.0</td>\n",
       "      <td>36.0</td>\n",
       "      <td>0</td>\n",
       "      <td>1</td>\n",
       "      <td>0</td>\n",
       "      <td>0</td>\n",
       "      <td>1</td>\n",
       "      <td>0</td>\n",
       "      <td>0</td>\n",
       "      <td>0</td>\n",
       "      <td>0</td>\n",
       "      <td>0</td>\n",
       "      <td>1</td>\n",
       "      <td>0</td>\n",
       "    </tr>\n",
       "    <tr>\n",
       "      <th>48838</th>\n",
       "      <td>0</td>\n",
       "      <td>64</td>\n",
       "      <td>3</td>\n",
       "      <td>9</td>\n",
       "      <td>1</td>\n",
       "      <td>0.0</td>\n",
       "      <td>0.0</td>\n",
       "      <td>40.0</td>\n",
       "      <td>1</td>\n",
       "      <td>0</td>\n",
       "      <td>0</td>\n",
       "      <td>0</td>\n",
       "      <td>0</td>\n",
       "      <td>1</td>\n",
       "      <td>0</td>\n",
       "      <td>0</td>\n",
       "      <td>0</td>\n",
       "      <td>0</td>\n",
       "      <td>1</td>\n",
       "      <td>0</td>\n",
       "    </tr>\n",
       "    <tr>\n",
       "      <th>48839</th>\n",
       "      <td>0</td>\n",
       "      <td>38</td>\n",
       "      <td>3</td>\n",
       "      <td>13</td>\n",
       "      <td>1</td>\n",
       "      <td>0.0</td>\n",
       "      <td>0.0</td>\n",
       "      <td>50.0</td>\n",
       "      <td>0</td>\n",
       "      <td>1</td>\n",
       "      <td>0</td>\n",
       "      <td>1</td>\n",
       "      <td>0</td>\n",
       "      <td>0</td>\n",
       "      <td>0</td>\n",
       "      <td>0</td>\n",
       "      <td>0</td>\n",
       "      <td>0</td>\n",
       "      <td>1</td>\n",
       "      <td>0</td>\n",
       "    </tr>\n",
       "    <tr>\n",
       "      <th>48840</th>\n",
       "      <td>0</td>\n",
       "      <td>44</td>\n",
       "      <td>3</td>\n",
       "      <td>13</td>\n",
       "      <td>1</td>\n",
       "      <td>5455.0</td>\n",
       "      <td>0.0</td>\n",
       "      <td>40.0</td>\n",
       "      <td>0</td>\n",
       "      <td>0</td>\n",
       "      <td>1</td>\n",
       "      <td>0</td>\n",
       "      <td>0</td>\n",
       "      <td>0</td>\n",
       "      <td>1</td>\n",
       "      <td>0</td>\n",
       "      <td>0</td>\n",
       "      <td>0</td>\n",
       "      <td>1</td>\n",
       "      <td>0</td>\n",
       "    </tr>\n",
       "    <tr>\n",
       "      <th>48841</th>\n",
       "      <td>1</td>\n",
       "      <td>35</td>\n",
       "      <td>4</td>\n",
       "      <td>13</td>\n",
       "      <td>1</td>\n",
       "      <td>0.0</td>\n",
       "      <td>0.0</td>\n",
       "      <td>60.0</td>\n",
       "      <td>0</td>\n",
       "      <td>1</td>\n",
       "      <td>0</td>\n",
       "      <td>1</td>\n",
       "      <td>0</td>\n",
       "      <td>0</td>\n",
       "      <td>0</td>\n",
       "      <td>0</td>\n",
       "      <td>0</td>\n",
       "      <td>0</td>\n",
       "      <td>1</td>\n",
       "      <td>0</td>\n",
       "    </tr>\n",
       "  </tbody>\n",
       "</table>\n",
       "<p>48842 rows × 20 columns</p>\n",
       "</div>"
      ],
      "text/plain": [
       "       income_level  age  workclass  education_num  sex  capital_gain  \\\n",
       "0                 0   39          6             13    1        2174.0   \n",
       "1                 0   50          5             13    1           0.0   \n",
       "2                 0   38          3              9    1           0.0   \n",
       "3                 0   53          3              7    1           0.0   \n",
       "4                 0   28          3             13    0           0.0   \n",
       "...             ...  ...        ...            ...  ...           ...   \n",
       "48837             0   39          3             13    0           0.0   \n",
       "48838             0   64          3              9    1           0.0   \n",
       "48839             0   38          3             13    1           0.0   \n",
       "48840             0   44          3             13    1        5455.0   \n",
       "48841             1   35          4             13    1           0.0   \n",
       "\n",
       "       capital_loss  hours_per_week  race_Black  race_White  race_other  \\\n",
       "0               0.0            40.0           0           1           0   \n",
       "1               0.0            13.0           0           1           0   \n",
       "2               0.0            40.0           0           1           0   \n",
       "3               0.0            40.0           1           0           0   \n",
       "4               0.0            40.0           1           0           0   \n",
       "...             ...             ...         ...         ...         ...   \n",
       "48837           0.0            36.0           0           1           0   \n",
       "48838           0.0            40.0           1           0           0   \n",
       "48839           0.0            50.0           0           1           0   \n",
       "48840           0.0            40.0           0           0           1   \n",
       "48841           0.0            60.0           0           1           0   \n",
       "\n",
       "       relationship_Husband  relationship_Not-in-family  \\\n",
       "0                         0                           1   \n",
       "1                         1                           0   \n",
       "2                         0                           1   \n",
       "3                         1                           0   \n",
       "4                         0                           0   \n",
       "...                     ...                         ...   \n",
       "48837                     0                           1   \n",
       "48838                     0                           0   \n",
       "48839                     1                           0   \n",
       "48840                     0                           0   \n",
       "48841                     1                           0   \n",
       "\n",
       "       relationship_Other-relative  relationship_Own-child  \\\n",
       "0                                0                       0   \n",
       "1                                0                       0   \n",
       "2                                0                       0   \n",
       "3                                0                       0   \n",
       "4                                0                       0   \n",
       "...                            ...                     ...   \n",
       "48837                            0                       0   \n",
       "48838                            1                       0   \n",
       "48839                            0                       0   \n",
       "48840                            0                       1   \n",
       "48841                            0                       0   \n",
       "\n",
       "       relationship_Unmarried  relationship_Wife  native_country_Mexico  \\\n",
       "0                           0                  0                      0   \n",
       "1                           0                  0                      0   \n",
       "2                           0                  0                      0   \n",
       "3                           0                  0                      0   \n",
       "4                           0                  1                      0   \n",
       "...                       ...                ...                    ...   \n",
       "48837                       0                  0                      0   \n",
       "48838                       0                  0                      0   \n",
       "48839                       0                  0                      0   \n",
       "48840                       0                  0                      0   \n",
       "48841                       0                  0                      0   \n",
       "\n",
       "       native_country_United-States  native_country_other  \n",
       "0                                 1                     0  \n",
       "1                                 1                     0  \n",
       "2                                 1                     0  \n",
       "3                                 1                     0  \n",
       "4                                 0                     1  \n",
       "...                             ...                   ...  \n",
       "48837                             1                     0  \n",
       "48838                             1                     0  \n",
       "48839                             1                     0  \n",
       "48840                             1                     0  \n",
       "48841                             1                     0  \n",
       "\n",
       "[48842 rows x 20 columns]"
      ]
     },
     "execution_count": 2,
     "metadata": {},
     "output_type": "execute_result"
    }
   ],
   "source": [
    "data = pd.read_csv ('census_income_dataset_processed.csv')\n",
    "data = data.drop('Unnamed: 0', axis=1)\n",
    "data"
   ]
  },
  {
   "cell_type": "markdown",
   "id": "12424a64",
   "metadata": {},
   "source": [
    "## 2. Podział danych"
   ]
  },
  {
   "cell_type": "code",
   "execution_count": 3,
   "id": "a9273b03",
   "metadata": {},
   "outputs": [],
   "source": [
    "from sklearn.model_selection import train_test_split\n",
    "\n",
    "y = data[\"income_level\"]\n",
    "X = data.drop(\"income_level\", axis = 1)\n",
    "\n",
    "X_train, X_test, y_train, y_test = train_test_split(X, y,\n",
    "                                                    random_state=420, train_size=0.7)\n",
    "\n",
    "X_train, X_val, y_train, y_val = train_test_split(X_train, y_train,\n",
    "                                                  random_state=420, train_size=0.7)"
   ]
  },
  {
   "cell_type": "markdown",
   "id": "8a7c4db7",
   "metadata": {},
   "source": [
    "## 3. Tworzenie modeli"
   ]
  },
  {
   "cell_type": "markdown",
   "id": "64e00200",
   "metadata": {},
   "source": [
    "Przetestowaliśmy kilka modeli: "
   ]
  },
  {
   "cell_type": "markdown",
   "id": "b4059cb7",
   "metadata": {},
   "source": [
    "##### SVC"
   ]
  },
  {
   "cell_type": "code",
   "execution_count": 4,
   "id": "9597252a",
   "metadata": {
    "scrolled": true
   },
   "outputs": [
    {
     "data": {
      "text/plain": [
       "0.8007234013512591"
      ]
     },
     "execution_count": 4,
     "metadata": {},
     "output_type": "execute_result"
    }
   ],
   "source": [
    "from sklearn import svm\n",
    "clf = svm.SVC()\n",
    "clf.fit(X_train, y_train).score(X_test, y_test)"
   ]
  },
  {
   "cell_type": "code",
   "execution_count": 5,
   "id": "ec94455f",
   "metadata": {},
   "outputs": [
    {
     "data": {
      "image/png": "[encoded data removed]",
      "text/plain": [
       "<Figure size 432x288 with 2 Axes>"
      ]
     },
     "metadata": {
      "needs_background": "light"
     },
     "output_type": "display_data"
    }
   ],
   "source": [
    "y_pred = clf.predict(X_test)\n",
    "# y_pred\n",
    "\n",
    "from sklearn import metrics\n",
    "\n",
    "plt.figure()\n",
    "sns.heatmap(metrics.confusion_matrix(y_test, y_pred), annot=True)\n",
    "plt.show()"
   ]
  },
  {
   "cell_type": "markdown",
   "id": "7cde9a2b",
   "metadata": {},
   "source": [
    "##### Random Forest"
   ]
  },
  {
   "cell_type": "code",
   "execution_count": 6,
   "id": "9a29a1b3",
   "metadata": {},
   "outputs": [
    {
     "data": {
      "text/plain": [
       "0.8415341568279533"
      ]
     },
     "execution_count": 6,
     "metadata": {},
     "output_type": "execute_result"
    }
   ],
   "source": [
    "from sklearn.ensemble import RandomForestClassifier\n",
    "rf = RandomForestClassifier()\n",
    "rf.fit(X_train, y_train).score(X_test, y_test)"
   ]
  },
  {
   "cell_type": "code",
   "execution_count": 7,
   "id": "99c6fded",
   "metadata": {},
   "outputs": [
    {
     "data": {
      "image/png": "[encoded data removed]",
      "text/plain": [
       "<Figure size 432x288 with 2 Axes>"
      ]
     },
     "metadata": {
      "needs_background": "light"
     },
     "output_type": "display_data"
    }
   ],
   "source": [
    "y_pred = rf.predict(X_test)\n",
    "\n",
    "plt.figure()\n",
    "sns.heatmap(metrics.confusion_matrix(y_test, y_pred), annot=True)\n",
    "plt.show()"
   ]
  },
  {
   "cell_type": "markdown",
   "id": "70f86b8b",
   "metadata": {},
   "source": [
    "##### XGBoost"
   ]
  },
  {
   "cell_type": "code",
   "execution_count": 8,
   "id": "cd041f3e",
   "metadata": {},
   "outputs": [
    {
     "name": "stderr",
     "output_type": "stream",
     "text": [
      "C:\\Users\\laura\\anaconda3\\lib\\site-packages\\xgboost\\data.py:262: FutureWarning: pandas.Int64Index is deprecated and will be removed from pandas in a future version. Use pandas.Index with the appropriate dtype instead.\n",
      "  elif isinstance(data.columns, (pd.Int64Index, pd.RangeIndex)):\n"
     ]
    },
    {
     "name": "stdout",
     "output_type": "stream",
     "text": [
      "[14:19:43] WARNING: C:/Users/Administrator/workspace/xgboost-win64_release_1.5.1/src/learner.cc:1115: Starting in XGBoost 1.3.0, the default evaluation metric used with the objective 'binary:logistic' was changed from 'error' to 'logloss'. Explicitly set eval_metric if you'd like to restore the old behavior.\n"
     ]
    },
    {
     "data": {
      "text/plain": [
       "0.8622807616187811"
      ]
     },
     "execution_count": 8,
     "metadata": {},
     "output_type": "execute_result"
    }
   ],
   "source": [
    "from xgboost import XGBClassifier\n",
    "xgb = XGBClassifier(objective=\"binary:logistic\", seed = 42, use_label_encoder=False)\n",
    "xgb.fit(X_train, y_train).score(X_test, y_test)"
   ]
  },
  {
   "cell_type": "code",
   "execution_count": 9,
   "id": "e341b4cc",
   "metadata": {
    "scrolled": true
   },
   "outputs": [
    {
     "name": "stderr",
     "output_type": "stream",
     "text": [
      "C:\\Users\\laura\\anaconda3\\lib\\site-packages\\xgboost\\data.py:262: FutureWarning: pandas.Int64Index is deprecated and will be removed from pandas in a future version. Use pandas.Index with the appropriate dtype instead.\n",
      "  elif isinstance(data.columns, (pd.Int64Index, pd.RangeIndex)):\n"
     ]
    },
    {
     "data": {
      "image/png": "[encoded data removed]",
      "text/plain": [
       "<Figure size 432x288 with 2 Axes>"
      ]
     },
     "metadata": {
      "needs_background": "light"
     },
     "output_type": "display_data"
    }
   ],
   "source": [
    "y_pred = xgb.predict(X_test)\n",
    "\n",
    "plt.figure()\n",
    "sns.heatmap(metrics.confusion_matrix(y_test, y_pred), annot=True)\n",
    "plt.show()"
   ]
  },
  {
   "cell_type": "markdown",
   "id": "ebe5ec16",
   "metadata": {},
   "source": [
    "##### Dummy Classifier"
   ]
  },
  {
   "cell_type": "code",
   "execution_count": 10,
   "id": "6d757b66",
   "metadata": {},
   "outputs": [
    {
     "data": {
      "text/plain": [
       "0.7582065106121614"
      ]
     },
     "execution_count": 10,
     "metadata": {},
     "output_type": "execute_result"
    }
   ],
   "source": [
    "from sklearn.dummy import DummyClassifier\n",
    "dc_model = DummyClassifier(strategy=\"most_frequent\")\n",
    "dc_model.fit(X_train, y_train).score(X_test, y_test)"
   ]
  },
  {
   "cell_type": "code",
   "execution_count": 11,
   "id": "9f7a2c5c",
   "metadata": {
    "scrolled": true
   },
   "outputs": [
    {
     "data": {
      "image/png": "[encoded data removed]",
      "text/plain": [
       "<Figure size 432x288 with 2 Axes>"
      ]
     },
     "metadata": {
      "needs_background": "light"
     },
     "output_type": "display_data"
    }
   ],
   "source": [
    "y_pred = dc_model.predict(X_test)\n",
    "\n",
    "plt.figure()\n",
    "sns.heatmap(metrics.confusion_matrix(y_test, y_pred), annot=True)\n",
    "plt.show()"
   ]
  },
  {
   "cell_type": "markdown",
   "id": "7c84c33b",
   "metadata": {},
   "source": [
    "##### Logisitc Regression"
   ]
  },
  {
   "cell_type": "code",
   "execution_count": 12,
   "id": "e519f493",
   "metadata": {},
   "outputs": [
    {
     "data": {
      "text/plain": [
       "0.8168975636388452"
      ]
     },
     "execution_count": 12,
     "metadata": {},
     "output_type": "execute_result"
    }
   ],
   "source": [
    "from sklearn.linear_model import LogisticRegression\n",
    "LR_model = LogisticRegression(random_state=420,n_jobs=-1)\n",
    "LR_model.fit(X_train, y_train).score(X_test, y_test)"
   ]
  },
  {
   "cell_type": "code",
   "execution_count": 13,
   "id": "72eae055",
   "metadata": {},
   "outputs": [
    {
     "data": {
      "image/png": "[encoded data removed]",
      "text/plain": [
       "<Figure size 432x288 with 2 Axes>"
      ]
     },
     "metadata": {
      "needs_background": "light"
     },
     "output_type": "display_data"
    }
   ],
   "source": [
    "y_pred = LR_model.predict(X_test)\n",
    "\n",
    "plt.figure()\n",
    "sns.heatmap(metrics.confusion_matrix(y_test, y_pred), annot=True)\n",
    "plt.show()"
   ]
  },
  {
   "cell_type": "markdown",
   "id": "17b7b955",
   "metadata": {},
   "source": [
    "Spośród wybranych modeli na razie najlepiej wypadł XGBoost."
   ]
  },
  {
   "cell_type": "markdown",
   "id": "a2a3ef6d",
   "metadata": {},
   "source": [
    "# Dogłębna analiza modeli i inżynieria cech"
   ]
  },
  {
   "cell_type": "markdown",
   "id": "e4d71f6d",
   "metadata": {},
   "source": [
    "### Model bazowy, do którego będziemy się porównywać"
   ]
  },
  {
   "cell_type": "code",
   "execution_count": 14,
   "id": "29528e0c",
   "metadata": {},
   "outputs": [
    {
     "name": "stderr",
     "output_type": "stream",
     "text": [
      "C:\\Users\\laura\\anaconda3\\lib\\site-packages\\xgboost\\data.py:262: FutureWarning: pandas.Int64Index is deprecated and will be removed from pandas in a future version. Use pandas.Index with the appropriate dtype instead.\n",
      "  elif isinstance(data.columns, (pd.Int64Index, pd.RangeIndex)):\n"
     ]
    },
    {
     "name": "stdout",
     "output_type": "stream",
     "text": [
      "[14:19:49] WARNING: C:/Users/Administrator/workspace/xgboost-win64_release_1.5.1/src/learner.cc:1115: Starting in XGBoost 1.3.0, the default evaluation metric used with the objective 'binary:logistic' was changed from 'error' to 'logloss'. Explicitly set eval_metric if you'd like to restore the old behavior.\n"
     ]
    },
    {
     "data": {
      "text/plain": [
       "0.8622807616187811"
      ]
     },
     "execution_count": 14,
     "metadata": {},
     "output_type": "execute_result"
    }
   ],
   "source": [
    "xgb = XGBClassifier(objective=\"binary:logistic\", seed = 42, use_label_encoder=False)\n",
    "xgb.fit(X_train, y_train).score(X_test, y_test)"
   ]
  },
  {
   "cell_type": "markdown",
   "id": "a03a2d55",
   "metadata": {},
   "source": [
    "### Wstępna inżynieria cech i modele"
   ]
  },
  {
   "cell_type": "code",
   "execution_count": 15,
   "id": "583c8777",
   "metadata": {
    "scrolled": true
   },
   "outputs": [
    {
     "name": "stderr",
     "output_type": "stream",
     "text": [
      "C:\\Users\\laura\\anaconda3\\lib\\site-packages\\sklearn\\model_selection\\_validation.py:372: FitFailedWarning: \n",
      "8 fits failed out of a total of 8.\n",
      "The score on these train-test partitions for these parameters will be set to nan.\n",
      "If these failures are not expected, you can try to debug them by setting error_score='raise'.\n",
      "\n",
      "Below are more details about the failures:\n",
      "--------------------------------------------------------------------------------\n",
      "8 fits failed with the following error:\n",
      "Traceback (most recent call last):\n",
      "  File \"C:\\Users\\laura\\anaconda3\\lib\\site-packages\\pandas\\core\\indexes\\base.py\", line 3621, in get_loc\n",
      "    return self._engine.get_loc(casted_key)\n",
      "  File \"pandas\\_libs\\index.pyx\", line 136, in pandas._libs.index.IndexEngine.get_loc\n",
      "  File \"pandas\\_libs\\index.pyx\", line 163, in pandas._libs.index.IndexEngine.get_loc\n",
      "  File \"pandas\\_libs\\hashtable_class_helper.pxi\", line 5198, in pandas._libs.hashtable.PyObjectHashTable.get_item\n",
      "  File \"pandas\\_libs\\hashtable_class_helper.pxi\", line 5206, in pandas._libs.hashtable.PyObjectHashTable.get_item\n",
      "KeyError: 'race'\n",
      "\n",
      "The above exception was the direct cause of the following exception:\n",
      "\n",
      "Traceback (most recent call last):\n",
      "  File \"C:\\Users\\laura\\anaconda3\\lib\\site-packages\\sklearn\\utils\\__init__.py\", line 433, in _get_column_indices\n",
      "    col_idx = all_columns.get_loc(col)\n",
      "  File \"C:\\Users\\laura\\anaconda3\\lib\\site-packages\\pandas\\core\\indexes\\base.py\", line 3623, in get_loc\n",
      "    raise KeyError(key) from err\n",
      "KeyError: 'race'\n",
      "\n",
      "The above exception was the direct cause of the following exception:\n",
      "\n",
      "Traceback (most recent call last):\n",
      "  File \"C:\\Users\\laura\\anaconda3\\lib\\site-packages\\sklearn\\model_selection\\_validation.py\", line 680, in _fit_and_score\n",
      "    estimator.fit(X_train, y_train, **fit_params)\n",
      "  File \"C:\\Users\\laura\\anaconda3\\lib\\site-packages\\sklearn\\pipeline.py\", line 390, in fit\n",
      "    Xt = self._fit(X, y, **fit_params_steps)\n",
      "  File \"C:\\Users\\laura\\anaconda3\\lib\\site-packages\\sklearn\\pipeline.py\", line 348, in _fit\n",
      "    X, fitted_transformer = fit_transform_one_cached(\n",
      "  File \"C:\\Users\\laura\\anaconda3\\lib\\site-packages\\joblib\\memory.py\", line 349, in __call__\n",
      "    return self.func(*args, **kwargs)\n",
      "  File \"C:\\Users\\laura\\anaconda3\\lib\\site-packages\\sklearn\\pipeline.py\", line 893, in _fit_transform_one\n",
      "    res = transformer.fit_transform(X, y, **fit_params)\n",
      "  File \"C:\\Users\\laura\\anaconda3\\lib\\site-packages\\sklearn\\compose\\_column_transformer.py\", line 672, in fit_transform\n",
      "    self._validate_column_callables(X)\n",
      "  File \"C:\\Users\\laura\\anaconda3\\lib\\site-packages\\sklearn\\compose\\_column_transformer.py\", line 352, in _validate_column_callables\n",
      "    transformer_to_input_indices[name] = _get_column_indices(X, columns)\n",
      "  File \"C:\\Users\\laura\\anaconda3\\lib\\site-packages\\sklearn\\utils\\__init__.py\", line 441, in _get_column_indices\n",
      "    raise ValueError(\"A given column is not a column of the dataframe\") from e\n",
      "ValueError: A given column is not a column of the dataframe\n",
      "\n",
      "  warnings.warn(some_fits_failed_message, FitFailedWarning)\n"
     ]
    },
    {
     "name": "stdout",
     "output_type": "stream",
     "text": [
      "LR_model cross validation accuarcy score: nan +/- nan (std) \t min: nan, max: nan\n",
      "SVM_model cross validation accuarcy score: nan +/- nan (std) \t min: nan, max: nan\n",
      "DT_model cross validation accuarcy score: nan +/- nan (std) \t min: nan, max: nan\n",
      "RF_model cross validation accuarcy score: nan +/- nan (std) \t min: nan, max: nan\n",
      "XGB_model cross validation accuarcy score: nan +/- nan (std) \t min: nan, max: nan\n"
     ]
    }
   ],
   "source": [
    "from sklearn.compose import ColumnTransformer\n",
    "from sklearn.linear_model import LogisticRegression\n",
    "from sklearn.svm import SVC\n",
    "from sklearn.tree import DecisionTreeClassifier\n",
    "from sklearn.model_selection import train_test_split, KFold, cross_validate, cross_val_score\n",
    "from sklearn.pipeline import Pipeline\n",
    "\n",
    "cat_features = ['age', 'workclass', 'education_num', 'race', 'sex', 'capital_gain', \n",
    "                'capital_loss', 'hours_per_week', 'native_country', 'Husband', 'Not-in-family', \n",
    "                'Other-relative', 'Own-child', 'Unmarried', 'Wife']\n",
    "\n",
    "base_transformer = ColumnTransformer(\n",
    "    [\n",
    "    (\"onehot\", OneHotEncoder(handle_unknown = 'ignore'), cat_features)        # one hot encoding\n",
    "    ],\n",
    "    remainder = \"passthrough\"\n",
    ")\n",
    "\n",
    "\n",
    "base_models = [(\"LR_model\", LogisticRegression(random_state=420,n_jobs=-1)),\n",
    "               (\"SVM_model\", SVC(random_state=42)),\n",
    "               (\"DT_model\", DecisionTreeClassifier(random_state=420)),\n",
    "               (\"RF_model\", RandomForestClassifier(random_state=420, n_jobs=-1)),\n",
    "               (\"XGB_model\", XGBClassifier(random_state=420, n_jobs=-1))]\n",
    "\n",
    "kfolds = 8\n",
    "split = KFold(n_splits=kfolds, shuffle=True, random_state=420)\n",
    "\n",
    "base_results = []\n",
    "names = []\n",
    "\n",
    "for name, model in base_models:\n",
    "    model_steps = Pipeline(\n",
    "                           [('transformer', base_transformer),\n",
    "                            ('model', model)]\n",
    "                          )\n",
    "    \n",
    "    cv_results = cross_val_score(model_steps, \n",
    "                                 X_train, y_train,\n",
    "                                 cv=split,\n",
    "                                 scoring=\"accuracy\",\n",
    "                                 n_jobs=-1)\n",
    "\n",
    "    base_results.append(cv_results)\n",
    "    names.append(name)\n",
    "    \n",
    "    min_score = round(min(cv_results), 4)\n",
    "    max_score = round(max(cv_results), 4)\n",
    "    mean_score = round(np.mean(cv_results), 4)\n",
    "    std_dev = round(np.std(cv_results), 4)\n",
    "    print(f\"{name} cross validation accuarcy score: {mean_score} +/- {std_dev} (std) \\t min: {min_score}, max: {max_score}\")"
   ]
  },
  {
   "cell_type": "markdown",
   "id": "65f5d6e0",
   "metadata": {},
   "source": [
    "Widzimy, że najlepiej poradziły sobie XGBoost oraz regresja logistyczna. Ze względu na szybkość trenowania się modeli, przy dalszej inżynierii cech będziemy sprawdzać, jak wprowadzane zmiany wpływają na skuteczność właśnie modelu regresji logistycznej. Na końcu sprawdzimy również, czy uda nam się w ten sposób poprawić działanie XGBoosta."
   ]
  },
  {
   "cell_type": "markdown",
   "id": "175afd3a",
   "metadata": {},
   "source": [
    "#### Skalowanie zmiennych"
   ]
  },
  {
   "cell_type": "markdown",
   "id": "4f957ada",
   "metadata": {},
   "source": [
    "Wiedząc o tym, że modele regresji \"nie lubią\" nieprzeskalowanych danych, dokonamy teraz skalowania danych numerycznych. Wykorzystamy do tego standaryzację dla zmiennej wieku (przypomina ona bowiem - co naturalne - rozkład normalny) oraz normalizację min-max dla pozostałych cech, które nie mają takiej własności."
   ]
  },
  {
   "cell_type": "code",
   "execution_count": 16,
   "id": "10148043",
   "metadata": {},
   "outputs": [
    {
     "name": "stdout",
     "output_type": "stream",
     "text": [
      "LR_model with features scaling cross validation accuarcy score: nan +/- nan (std) \t min: nan, max: nan\n"
     ]
    }
   ],
   "source": [
    "from sklearn.preprocessing import MinMaxScaler\n",
    "from sklearn.preprocessing import StandardScaler\n",
    "\n",
    "cat_features = ['age', 'workclass', 'education_num', 'race', 'sex', 'capital_gain', \n",
    "                'capital_loss', 'hours_per_week', 'native_country', 'Husband', 'Not-in-family', \n",
    "                'Other-relative', 'Own-child', 'Unmarried', 'Wife']\n",
    "\n",
    "\n",
    "transformer = ColumnTransformer(\n",
    "    [\n",
    "    (\"onehot\", OneHotEncoder(handle_unknown = 'ignore'), cat_features), \n",
    "    (\"minmax_scaler\", MinMaxScaler(), [\"capital_gain\", \"capital_loss\", \"hours_per_week\"]),\n",
    "            #skalowanie\n",
    "    (\"std_scaler\", StandardScaler(), [\"age\"])\n",
    "    ],\n",
    "    remainder = \"passthrough\"\n",
    ")\n",
    "\n",
    "\n",
    "lr = LogisticRegression(random_state=42, n_jobs=-1)\n",
    "\n",
    "lr_model = Pipeline(\n",
    "    [\n",
    "        ('transformer', transformer),\n",
    "        ('logistic-model', lr)\n",
    "    ]\n",
    ")\n",
    "\n",
    "cv_results = cross_val_score(lr_model, \n",
    "                 X_train, y_train, \n",
    "                 cv=split,\n",
    "                 scoring=\"accuracy\",\n",
    "                 n_jobs=-1)\n",
    "    \n",
    "min_score = round(min(cv_results), 4)\n",
    "max_score = round(max(cv_results), 4)\n",
    "mean_score = round(np.mean(cv_results), 4)\n",
    "std_dev = round(np.std(cv_results), 4)\n",
    "    \n",
    "print(f\"LR_model with features scaling cross validation accuarcy score: {mean_score} +/- {std_dev} (std) \\t min: {min_score}, max: {max_score}\")"
   ]
  },
  {
   "cell_type": "markdown",
   "id": "e6a243cd",
   "metadata": {},
   "source": [
    "`LR_model cross validation accuarcy score: 0.8593 +/- 0.0043 (std) \t min: 0.8509, max: 0.8671`\n",
    "\n",
    "Przeskalowanie zmiennych niewiele zmieniło wynik regresji logistycznej."
   ]
  },
  {
   "cell_type": "code",
   "execution_count": 17,
   "id": "563d0bf6",
   "metadata": {},
   "outputs": [
    {
     "name": "stdout",
     "output_type": "stream",
     "text": [
      "LR_model with features scaling cross validation accuarcy score: nan +/- nan (std) \t min: nan, max: nan\n"
     ]
    }
   ],
   "source": [
    "from sklearn.preprocessing import MinMaxScaler\n",
    "from sklearn.preprocessing import StandardScaler\n",
    "\n",
    "cat_features = ['age', 'workclass', 'education_num', 'race', 'sex', 'capital_gain', \n",
    "                'capital_loss', 'hours_per_week', 'native_country', 'Husband', 'Not-in-family', \n",
    "                'Other-relative', 'Own-child', 'Unmarried', 'Wife']\n",
    "\n",
    "\n",
    "transformer = ColumnTransformer(\n",
    "    [\n",
    "    (\"onehot\", OneHotEncoder(handle_unknown = 'ignore'), cat_features), \n",
    "    (\"std_scaler\", StandardScaler(), [\"age\", \"capital_gain\", \"capital_loss\", \"hours_per_week\"])\n",
    "    ],\n",
    "    remainder = \"passthrough\"\n",
    ")\n",
    "\n",
    "\n",
    "lr = LogisticRegression(random_state=42, n_jobs=-1)\n",
    "\n",
    "lr_model = Pipeline(\n",
    "    [\n",
    "        ('transformer', transformer),\n",
    "        ('logistic-model', lr)\n",
    "    ]\n",
    ")\n",
    "\n",
    "cv_results = cross_val_score(lr_model, \n",
    "                 X_train, y_train, \n",
    "                 cv=split,\n",
    "                 scoring=\"accuracy\",\n",
    "                 n_jobs=-1)\n",
    "    \n",
    "min_score = round(min(cv_results), 4)\n",
    "max_score = round(max(cv_results), 4)\n",
    "mean_score = round(np.mean(cv_results), 4)\n",
    "std_dev = round(np.std(cv_results), 4)\n",
    "    \n",
    "print(f\"LR_model with features scaling cross validation accuarcy score: {mean_score} +/- {std_dev} (std) \\t min: {min_score}, max: {max_score}\")"
   ]
  },
  {
   "cell_type": "markdown",
   "id": "e70c41f6",
   "metadata": {},
   "source": [
    "`LR_model cross validation accuarcy score: 0.8593 +/- 0.0043 (std) \t min: 0.8509, max: 0.8671`\n",
    "\n",
    "Użycie standard scalera na wszystkich zmiennych dało nieco lepsze wyniki, ale znacznej róznicy nie ma."
   ]
  }
 ],
 "metadata": {
  "kernelspec": {
   "display_name": "Python 3 (ipykernel)",
   "language": "python",
   "name": "python3"
  },
  "language_info": {
   "codemirror_mode": {
    "name": "ipython",
    "version": 3
   },
   "file_extension": ".py",
   "mimetype": "text/x-python",
   "name": "python",
   "nbconvert_exporter": "python",
   "pygments_lexer": "ipython3",
   "version": "3.9.7"
  }
 },
 "nbformat": 4,
 "nbformat_minor": 5
}
